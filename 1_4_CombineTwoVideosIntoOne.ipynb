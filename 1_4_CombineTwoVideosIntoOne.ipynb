{
 "cells": [
  {
   "cell_type": "markdown",
   "metadata": {},
   "source": [
    "## Callin Switzer\n",
    "Update 10 Feb 2017\n",
    "\n",
    "Snippet of code to combine two videos (processed and raw) into a single video"
   ]
  },
  {
   "cell_type": "code",
   "execution_count": 2,
   "metadata": {},
   "outputs": [],
   "source": [
    "import cv2\n",
    "import numpy as np\n",
    "import matplotlib\n",
    "matplotlib.use(\"TkAgg\") # have to use this for tkinter to  work below\n",
    "from matplotlib import pyplot as plt\n",
    "%matplotlib tk\n",
    "\n",
    "# scikit image\n",
    "import skimage\n",
    "from skimage import io\n",
    "\n",
    "import os\n",
    "import time"
   ]
  },
  {
   "cell_type": "code",
   "execution_count": 3,
   "metadata": {
    "collapsed": true
   },
   "outputs": [],
   "source": [
    "%qtconsole"
   ]
  },
  {
   "cell_type": "code",
   "execution_count": 58,
   "metadata": {
    "collapsed": true
   },
   "outputs": [],
   "source": [
    "# choose video\n",
    "# 20150608_135726.avi\n",
    "aa = \"/Users/cswitzer/Dropbox/ExperSummer2016/Kalmia/Revision1_AmNat/OldVideos/Movie2_2016.mp4\"\n",
    "bb = \"/Users/cswitzer/Dropbox/ExperSummer2016/Kalmia/Revision1_AmNat/OldVideos/Movie3_2016.mp4\""
   ]
  },
  {
   "cell_type": "code",
   "execution_count": 64,
   "metadata": {},
   "outputs": [
    {
     "name": "stdout",
     "output_type": "stream",
     "text": [
      "/Users/cswitzer/Dropbox/ExperSummer2016/Kalmia/Revision1_AmNat/OldVideos/Movie2_2016.mp4\n",
      "numFrames = 1003\n",
      "1003 720 600 25.0\n"
     ]
    }
   ],
   "source": [
    "print aa\n",
    "cap = cv2.VideoCapture(aa)\n",
    "numFr = int(round(cap.get(cv2.cv.CV_CAP_PROP_FRAME_COUNT)))\n",
    "print 'numFrames = ' + str(numFr)\n",
    "length = int(cap.get(cv2.cv.CV_CAP_PROP_FRAME_COUNT))\n",
    "width  = int(cap.get(cv2.cv.CV_CAP_PROP_FRAME_WIDTH))\n",
    "height = int(cap.get(cv2.cv.CV_CAP_PROP_FRAME_HEIGHT))\n",
    "fps    = cap.get(cv2.cv.CV_CAP_PROP_FPS)\n",
    "print length, width, height, fps"
   ]
  },
  {
   "cell_type": "code",
   "execution_count": 65,
   "metadata": {},
   "outputs": [
    {
     "name": "stdout",
     "output_type": "stream",
     "text": [
      "/Users/cswitzer/Dropbox/ExperSummer2016/Kalmia/Revision1_AmNat/OldVideos/Movie3_2016.mp4\n",
      "numFrames = 1003\n",
      "1003 720 600 25.0\n"
     ]
    }
   ],
   "source": [
    "print bb\n",
    "cap2 = cv2.VideoCapture(bb)\n",
    "numFr2 = int(round(cap2.get(cv2.cv.CV_CAP_PROP_FRAME_COUNT)))\n",
    "print 'numFrames = ' + str(numFr2)\n",
    "\n",
    "length2 = int(cap2.get(cv2.cv.CV_CAP_PROP_FRAME_COUNT))\n",
    "width2  = int(cap2.get(cv2.cv.CV_CAP_PROP_FRAME_WIDTH))\n",
    "height2 = int(cap2.get(cv2.cv.CV_CAP_PROP_FRAME_HEIGHT))\n",
    "fps2    = cap2.get(cv2.cv.CV_CAP_PROP_FPS)\n",
    "print length2, width2, height2, fps2"
   ]
  },
  {
   "cell_type": "code",
   "execution_count": 66,
   "metadata": {
    "collapsed": true
   },
   "outputs": [],
   "source": [
    "%qtconsole"
   ]
  },
  {
   "cell_type": "code",
   "execution_count": 67,
   "metadata": {
    "collapsed": true
   },
   "outputs": [],
   "source": [
    "newD = '/Users/cswitzer/Desktop/DoubleVid/'\n",
    "if not os.path.isdir(newD):\n",
    "    os.mkdir(newD)\n",
    "    \n",
    "os.chdir(newD)"
   ]
  },
  {
   "cell_type": "code",
   "execution_count": 68,
   "metadata": {},
   "outputs": [
    {
     "name": "stdout",
     "output_type": "stream",
     "text": [
      "1\n",
      "2\n",
      "3\n",
      "4\n",
      "5\n",
      "6\n",
      "7\n",
      "8\n",
      "9\n",
      "0.932348966599\n"
     ]
    }
   ],
   "source": [
    "# read in videos and combine them frame by frame\n",
    "\n",
    "# reset frame num to zero\n",
    "cap.set(cv2.cv.CV_CAP_PROP_FRAME_COUNT, 0) \n",
    "cap2.set(cv2.cv.CV_CAP_PROP_FRAME_COUNT, 0) \n",
    "\n",
    "ret = True\n",
    "ctr = 1\n",
    "\n",
    "stt = time.time()\n",
    "while(ctr < 10):  \n",
    "    # capture frame-by-frame\n",
    "    ret, frame = cap.read()\n",
    "    ret2, frame2 = cap2.read()\n",
    "    \n",
    "    if not ret:\n",
    "        break\n",
    "\n",
    "    # combine frames\n",
    "    combFrames = np.concatenate([frame, frame2], axis = 1)\n",
    "    \n",
    "    cv2.imwrite(str(ctr).zfill(4) + \".png\", combFrames)\n",
    "    print(ctr)\n",
    "    ctr += 1\n",
    "\n",
    "    if cv2.waitKey(1) & 0xFF == ord('q'):\n",
    "        break\n",
    "        \n",
    "# When everything is done release the capture\n",
    "cap.release()\n",
    "cap2.release()\n",
    "cv2.destroyAllWindows()\n",
    "\n",
    "print time.time() - stt # "
   ]
  },
  {
   "cell_type": "code",
   "execution_count": 23,
   "metadata": {},
   "outputs": [
    {
     "name": "stdout",
     "output_type": "stream",
     "text": [
      "ffmpeg version 3.3.3 Copyright (c) 2000-2017 the FFmpeg developers\n",
      "  built with Apple LLVM version 8.1.0 (clang-802.0.42)\n",
      "  configuration: --prefix=/usr/local/Cellar/ffmpeg/3.3.3 --enable-shared --enable-pthreads --enable-gpl --enable-version3 --enable-hardcoded-tables --enable-avresample --cc=clang --host-cflags= --host-ldflags= --enable-libmp3lame --enable-libx264 --enable-libxvid --enable-opencl --enable-videotoolbox --disable-lzma --enable-vda\n",
      "  libavutil      55. 58.100 / 55. 58.100\n",
      "  libavcodec     57. 89.100 / 57. 89.100\n",
      "  libavformat    57. 71.100 / 57. 71.100\n",
      "  libavdevice    57.  6.100 / 57.  6.100\n",
      "  libavfilter     6. 82.100 /  6. 82.100\n",
      "  libavresample   3.  5.  0 /  3.  5.  0\n",
      "  libswscale      4.  6.100 /  4.  6.100\n",
      "  libswresample   2.  7.100 /  2.  7.100\n",
      "  libpostproc    54.  5.100 / 54.  5.100\n",
      "Input #0, image2, from '%04d.png':\n",
      "  Duration: 00:00:37.16, start: 0.000000, bitrate: N/A\n",
      "    Stream #0:0: Video: png, rgb24(pc), 1440x600, 25 fps, 25 tbr, 25 tbn, 25 tbc\n",
      "Stream mapping:\n",
      "  Stream #0:0 -> #0:0 (png (native) -> h264 (libx264))\n",
      "Press [q] to stop, [?] for help\n",
      "\u001b[1;36m[libx264 @ 0x7fbc10800c00] \u001b[0musing cpu capabilities: MMX2 SSE2Fast SSSE3 SSE4.2 AVX FMA3 AVX2 LZCNT BMI2\n",
      "\u001b[1;36m[libx264 @ 0x7fbc10800c00] \u001b[0mprofile High, level 3.1\n",
      "\u001b[1;36m[libx264 @ 0x7fbc10800c00] \u001b[0m264 - core 148 r2795 aaa9aa8 - H.264/MPEG-4 AVC codec - Copyleft 2003-2017 - http://www.videolan.org/x264.html - options: cabac=1 ref=3 deblock=1:0:0 analyse=0x3:0x113 me=hex subme=7 psy=1 psy_rd=1.00:0.00 mixed_ref=1 me_range=16 chroma_me=1 trellis=1 8x8dct=1 cqm=0 deadzone=21,11 fast_pskip=1 chroma_qp_offset=-2 threads=12 lookahead_threads=2 sliced_threads=0 nr=0 decimate=1 interlaced=0 bluray_compat=0 constrained_intra=0 bframes=3 b_pyramid=2 b_adapt=1 b_bias=0 direct=1 weightb=1 open_gop=0 weightp=2 keyint=250 keyint_min=25 scenecut=40 intra_refresh=0 rc_lookahead=40 rc=crf mbtree=1 crf=23.0 qcomp=0.60 qpmin=0 qpmax=69 qpstep=4 ip_ratio=1.40 aq=1:1.00\n",
      "Output #0, mp4, to 'mov23_combined.mp4':\n",
      "  Metadata:\n",
      "    encoder         : Lavf57.71.100\n",
      "    Stream #0:0: Video: h264 (libx264) ([33][0][0][0] / 0x0021), yuv420p, 1440x600, q=-1--1, 25 fps, 12800 tbn, 25 tbc\n",
      "    Metadata:\n",
      "      encoder         : Lavc57.89.100 libx264\n",
      "    Side data:\n",
      "      cpb: bitrate max/min/avg: 0/0/0 buffer size: 0 vbv_delay: -1\n",
      "frame=  929 fps=126 q=-1.0 Lsize=    1183kB time=00:00:37.04 bitrate= 261.6kbits/s speed=5.02x    56x    \n",
      "video:1171kB audio:0kB subtitle:0kB other streams:0kB global headers:0kB muxing overhead: 0.999644%\n",
      "\u001b[1;36m[libx264 @ 0x7fbc10800c00] \u001b[0mframe I:4     Avg QP:16.98  size:159823\n",
      "\u001b[1;36m[libx264 @ 0x7fbc10800c00] \u001b[0mframe P:234   Avg QP:20.02  size:  1356\n",
      "\u001b[1;36m[libx264 @ 0x7fbc10800c00] \u001b[0mframe B:691   Avg QP:31.65  size:   350\n",
      "\u001b[1;36m[libx264 @ 0x7fbc10800c00] \u001b[0mconsecutive B-frames:  0.8%  0.2%  0.0% 99.0%\n",
      "\u001b[1;36m[libx264 @ 0x7fbc10800c00] \u001b[0mmb I  I16..4:  7.2% 69.2% 23.6%\n",
      "\u001b[1;36m[libx264 @ 0x7fbc10800c00] \u001b[0mmb P  I16..4:  0.0%  0.1%  0.1%  P16..4:  3.3%  1.0%  0.8%  0.0%  0.0%    skip:94.7%\n",
      "\u001b[1;36m[libx264 @ 0x7fbc10800c00] \u001b[0mmb B  I16..4:  0.0%  0.0%  0.0%  B16..8:  2.9%  0.1%  0.1%  direct: 0.1%  skip:96.9%  L0:41.0% L1:58.0% BI: 1.0%\n",
      "\u001b[1;36m[libx264 @ 0x7fbc10800c00] \u001b[0m8x8 transform intra:68.1% inter:62.6%\n",
      "\u001b[1;36m[libx264 @ 0x7fbc10800c00] \u001b[0mcoded y,uvDC,uvAC intra: 57.4% 0.0% 0.0% inter: 0.5% 0.0% 0.0%\n",
      "\u001b[1;36m[libx264 @ 0x7fbc10800c00] \u001b[0mi16 v,h,dc,p: 20% 18% 48% 14%\n",
      "\u001b[1;36m[libx264 @ 0x7fbc10800c00] \u001b[0mi8 v,h,dc,ddl,ddr,vr,hd,vl,hu: 41% 12% 27%  5%  2%  3%  2%  3%  4%\n",
      "\u001b[1;36m[libx264 @ 0x7fbc10800c00] \u001b[0mi4 v,h,dc,ddl,ddr,vr,hd,vl,hu: 25% 11% 24%  8%  6%  7%  6%  7%  6%\n",
      "\u001b[1;36m[libx264 @ 0x7fbc10800c00] \u001b[0mi8c dc,h,v,p: 100%  0%  0%  0%\n",
      "\u001b[1;36m[libx264 @ 0x7fbc10800c00] \u001b[0mWeighted P-Frames: Y:0.0% UV:0.0%\n",
      "\u001b[1;36m[libx264 @ 0x7fbc10800c00] \u001b[0mref P L0: 67.5% 15.8% 12.8%  3.8%\n",
      "\u001b[1;36m[libx264 @ 0x7fbc10800c00] \u001b[0mref B L0: 84.0% 13.9%  2.1%\n",
      "\u001b[1;36m[libx264 @ 0x7fbc10800c00] \u001b[0mref B L1: 89.7% 10.3%\n",
      "\u001b[1;36m[libx264 @ 0x7fbc10800c00] \u001b[0mkb/s:258.05\n",
      "8.1183681488\n"
     ]
    }
   ],
   "source": [
    "stta = time.time()\n",
    "!ffmpeg -start_number 1 -i %04d.png -vf \"scale=trunc(iw/2)*2:trunc(ih/2)*2\" -c:v libx264 -pix_fmt yuv420p -y mov23_combined.mp4\n",
    "print time.time() - stta # ~ 1.4 seconds"
   ]
  },
  {
   "cell_type": "code",
   "execution_count": 69,
   "metadata": {
    "collapsed": true
   },
   "outputs": [],
   "source": [
    "# delete all png files in directory\n",
    "filelist = [ f for f in os.listdir(\".\") if f.endswith(\".png\") ]\n",
    "\n",
    "for f in filelist:\n",
    "    os.remove(f)"
   ]
  },
  {
   "cell_type": "code",
   "execution_count": null,
   "metadata": {
    "collapsed": true
   },
   "outputs": [],
   "source": []
  }
 ],
 "metadata": {
  "kernelspec": {
   "display_name": "python2_opencv",
   "language": "python",
   "name": "python2_opencv"
  },
  "language_info": {
   "codemirror_mode": {
    "name": "ipython",
    "version": 2
   },
   "file_extension": ".py",
   "mimetype": "text/x-python",
   "name": "python",
   "nbconvert_exporter": "python",
   "pygments_lexer": "ipython2",
   "version": "2.7.13"
  }
 },
 "nbformat": 4,
 "nbformat_minor": 2
}
