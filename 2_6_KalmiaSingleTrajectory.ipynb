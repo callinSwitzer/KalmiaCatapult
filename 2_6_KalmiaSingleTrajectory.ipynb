{
 "cells": [
  {
   "cell_type": "markdown",
   "metadata": {},
   "source": [
    "### Callin Switzer\n",
    "\n",
    "20 Oct 2017\n",
    "\n",
    "-Read in all the Kalmia polygon images (from R KalmiaVisualizePolygons_V2.R)\n",
    "\n",
    "-Stack images\n",
    "\n",
    "-Visualize a heatmap\n",
    "\n",
    "-Save heatmap"
   ]
  },
  {
   "cell_type": "code",
   "execution_count": 1,
   "metadata": {
    "collapsed": true
   },
   "outputs": [],
   "source": [
    "import cv2\n",
    "\n",
    "import numpy as np\n",
    "import matplotlib\n",
    "matplotlib.use(\"TkAgg\") # have to use this for tkinter to  work below\n",
    "from matplotlib import pyplot as plt\n",
    "%matplotlib tk\n",
    "\n",
    "# scikit image\n",
    "import skimage\n",
    "from skimage import io\n",
    "\n",
    "import os\n",
    "import pandas as pd\n",
    "import time"
   ]
  },
  {
   "cell_type": "code",
   "execution_count": 2,
   "metadata": {
    "collapsed": true
   },
   "outputs": [],
   "source": [
    "# %qtconsole"
   ]
  },
  {
   "cell_type": "code",
   "execution_count": 3,
   "metadata": {
    "collapsed": true
   },
   "outputs": [],
   "source": [
    "# load colormap\n",
    "os.chdir(\"/Users/cswitzer/Dropbox/ExperSummer2016/Kalmia/Manuscript/DatasetsSupplemental/KalmiaDigitizedPolygon/colormap\")\n",
    "import matplotlib.cm as cm\n",
    "import colormaps as cmaps\n",
    "colormap_r = matplotlib.colors.ListedColormap(cmaps.magma.colors[::-1])"
   ]
  },
  {
   "cell_type": "code",
   "execution_count": 7,
   "metadata": {
    "collapsed": true
   },
   "outputs": [],
   "source": [
    "os.chdir(\"/Users/cswitzer/Dropbox/ExperSummer2016/Kalmia/KalmiaExamples/KalmiaManualTrig_VidsToProcess\")"
   ]
  },
  {
   "cell_type": "code",
   "execution_count": 8,
   "metadata": {
    "collapsed": true
   },
   "outputs": [],
   "source": [
    "# list files in directory\n",
    "mypath = os.getcwd()\n",
    "onlyfiles = [f for f in os.listdir(mypath) if os.path.isfile(os.path.join(mypath, f))]\n",
    "photoList = [ x for x in onlyfiles if not x.startswith('.') and x.endswith('.png')]"
   ]
  },
  {
   "cell_type": "code",
   "execution_count": 9,
   "metadata": {},
   "outputs": [
    {
     "data": {
      "text/plain": [
       "29"
      ]
     },
     "execution_count": 9,
     "metadata": {},
     "output_type": "execute_result"
    }
   ],
   "source": [
    "len(photoList) # should be 29"
   ]
  },
  {
   "cell_type": "code",
   "execution_count": 87,
   "metadata": {
    "collapsed": true
   },
   "outputs": [],
   "source": [
    "# stack all polygons and visualize \n",
    "stackedImg = np.ones((2000, 2000)) * 0.0\n",
    "\n",
    "for ii in range(len(photoList)):\n",
    "    # read in image\n",
    "    \n",
    "    fpth = photoList[ii]\n",
    "    img = cv2.imread(fpth,0)\n",
    "    img = (img < 255) * 1.0\n",
    "    if ii == 0:\n",
    "        img = cv2.flip(img, 1)\n",
    "    img2 = mask * img\n",
    "    stackedImg = img2 + stackedImg\n",
    "\n",
    "plt.clf()\n",
    "io.imshow(stackedImg, cmap = 'YlOrRd')"
   ]
  },
  {
   "cell_type": "code",
   "execution_count": 12,
   "metadata": {
    "collapsed": true
   },
   "outputs": [],
   "source": [
    "# convert 0's to NAN\n",
    "stackedImg = stackedImg / np.max(stackedImg)\n",
    "stackedImg[stackedImg == 0.0] = np.nan"
   ]
  },
  {
   "cell_type": "code",
   "execution_count": 13,
   "metadata": {
    "collapsed": true
   },
   "outputs": [],
   "source": [
    "# remove border\n",
    "a = stackedImg\n",
    "slice_val = 150\n",
    "b = a[slice_val:-slice_val, slice_val:-slice_val]"
   ]
  },
  {
   "cell_type": "code",
   "execution_count": 14,
   "metadata": {
    "collapsed": true
   },
   "outputs": [],
   "source": [
    "plt.close(\"all\")\n",
    "\n",
    "\n",
    "levels =  np.arange(0, 1.2, 0.1)\n",
    "fig, ax = plt.subplots()\n",
    "ax.axis('equal')\n",
    "ax.axis('off')\n",
    "#ax.tick_params('off')\n",
    "CF = ax.imshow(b, cmap = colormap_r)\n",
    "cbar = fig.colorbar(CF, ticks = levels, fraction = 0.031, pad = 0)\n",
    "#cbar.ax.set_yticklabels([\"0\", \"2\", \"3\", \"4\"])\n",
    "plt.tight_layout()\n",
    "\n",
    "fig.savefig(\"Figures/RawStacked_29Polygons.png\", dpi = 700)\n",
    "\n"
   ]
  },
  {
   "cell_type": "code",
   "execution_count": 15,
   "metadata": {
    "collapsed": true
   },
   "outputs": [],
   "source": [
    "# resample stacked images \n",
    "def resampleImgsNoWeight():\n",
    "    # stack all polygons and visualize\n",
    "    stackedImg = np.ones((2000, 2000)) * 0.0\n",
    "\n",
    "    # make multiplication matrix\n",
    "    mask = np.ones((2000, 2000))\n",
    "\n",
    "    photoSamp = np.random.choice(range(len(photoList)), size=len(photoList), replace=True, p=None)\n",
    "\n",
    "\n",
    "    for ii in photoSamp:\n",
    "        # read in imag\n",
    "        fpth = photoList[ii]\n",
    "        img = cv2.imread(fpth,0)\n",
    "        img = (img < 255) * 1.0\n",
    "\n",
    "\n",
    "\n",
    "        #flip the one that I did backwards\n",
    "        if fpth == '20160615_121016.png':\n",
    "            img = cv2.flip(img, 1)\n",
    "\n",
    "        img2 = mask * img\n",
    "\n",
    "        # stack images\n",
    "        stackedImg = img2 + stackedImg\n",
    "    \n",
    "    return stackedImg"
   ]
  },
  {
   "cell_type": "code",
   "execution_count": 18,
   "metadata": {},
   "outputs": [
    {
     "name": "stdout",
     "output_type": "stream",
     "text": [
      "307.041757107\n"
     ]
    }
   ],
   "source": [
    "stt = time.time()\n",
    "imStt = np.array([resampleImgsNoWeight() for ii in range(100)])\n",
    "print time.time() - stt"
   ]
  },
  {
   "cell_type": "code",
   "execution_count": 41,
   "metadata": {},
   "outputs": [
    {
     "data": {
      "text/plain": [
       "<matplotlib.collections.PathCollection at 0x19648c210>"
      ]
     },
     "execution_count": 41,
     "metadata": {},
     "output_type": "execute_result"
    }
   ],
   "source": [
    "# sum up arrays to make total bootstrap resample \n",
    "imSum = imStt.sum(axis = 0)\n",
    "i2 = imSum\n",
    "\n",
    "# normalize\n",
    "imSum = imSum / np.max(imSum)\n",
    "\n",
    "plt.clf()\n",
    "io.imshow(imSum, cmap = colormap_r)\n",
    "plt.scatter(x = intPoints[:,0], y = intPoints[:,1])"
   ]
  },
  {
   "cell_type": "code",
   "execution_count": 42,
   "metadata": {
    "collapsed": true
   },
   "outputs": [],
   "source": [
    "#imSum[imSum == 0] = np.nan\n",
    "\n",
    "imSum = np.ma.masked_where(imSum == 0, imSum)"
   ]
  },
  {
   "cell_type": "code",
   "execution_count": 43,
   "metadata": {},
   "outputs": [],
   "source": [
    "levels =  np.arange(0, 1.2, 0.1)\n",
    "fig, ax = plt.subplots()\n",
    "ax.axis('equal')\n",
    "ax.axis('off')\n",
    "#ax.tick_params('off')\n",
    "CF = ax.imshow(imSum, cmap = colormap_r, interpolation='none')\n",
    "cbar = fig.colorbar(CF, ticks = levels, fraction = 0.031, pad = 0)\n",
    "ax.scatter(x = intPoints[:,0], y = intPoints[:,1])\n",
    "plt.tight_layout()\n",
    "\n",
    "fig.savefig(\"Figures/RawStacked_29Polygons_withPoints.png\", dpi = 700)"
   ]
  },
  {
   "cell_type": "code",
   "execution_count": 44,
   "metadata": {
    "collapsed": true
   },
   "outputs": [],
   "source": [
    "a = imSum\n",
    "slice_val = 150\n",
    "c = a[slice_val:-slice_val, slice_val:-slice_val]"
   ]
  },
  {
   "cell_type": "code",
   "execution_count": 45,
   "metadata": {
    "collapsed": true
   },
   "outputs": [],
   "source": [
    "levels =  np.arange(0, 1.2, 0.1)\n",
    "fig, ax = plt.subplots()\n",
    "ax.axis('equal')\n",
    "ax.axis('off')\n",
    "#ax.tick_params('off')\n",
    "CF = ax.imshow(c, cmap = colormap_r, interpolation='none')\n",
    "cbar = fig.colorbar(CF, ticks = levels, fraction = 0.031, pad = 0)\n",
    "plt.tight_layout()\n",
    "\n",
    "fig.savefig(\"Figures/RawStacked_29Polygons_NoPoints.png\", dpi = 700)"
   ]
  },
  {
   "cell_type": "code",
   "execution_count": 46,
   "metadata": {
    "collapsed": true
   },
   "outputs": [],
   "source": [
    "plt.close(\"all\")"
   ]
  },
  {
   "cell_type": "code",
   "execution_count": 47,
   "metadata": {},
   "outputs": [
    {
     "data": {
      "text/plain": [
       "'/Users/cswitzer/Dropbox/ExperSummer2016/Kalmia/KalmiaExamples/KalmiaManualTrig_VidsToProcess/20160615_121016.png'"
      ]
     },
     "execution_count": 47,
     "metadata": {},
     "output_type": "execute_result"
    }
   ],
   "source": [
    "os.path.abspath(photoList[kk])"
   ]
  },
  {
   "cell_type": "code",
   "execution_count": 48,
   "metadata": {
    "collapsed": true
   },
   "outputs": [],
   "source": [
    "# add  blur\n",
    "plt.clf()\n",
    "kernel = np.ones((50,50),np.float32)/25\n",
    "imSum2 = np.array(cv2.filter2D(i2.copy(),-1,kernel))\n",
    "\n",
    "# normalize\n",
    "imSum2 = imSum2 / np.max(imSum2) * 100\n",
    "\n",
    "\n",
    "plt.close('all')\n",
    "\n",
    "\n",
    "imNA = imSum2\n",
    "imNA[imNA <= 10] = np.nan\n",
    "fig, ax = plt.subplots()\n",
    "im = ax.imshow(imNA, cmap = colormap_r, interpolation='none')\n",
    "cax = fig.add_axes([0.78, 0.2, 0.05, 0.6])\n",
    "fig.colorbar(im, cax=cax, orientation='vertical')\n",
    "\n",
    "# add contour lines\n",
    "ax.contour(imSum2, levels = range(10, 100, 20), colors = 'k')\n",
    "# plt.xlim([600, 1400])\n",
    "# plt.ylim([ 1700, 700])\n",
    "\n",
    "ax.axis('off')\n",
    "\n",
    "ax.set_xlim([600, 1900])\n",
    "ax.set_ylim([ 1800, 700])\n",
    "\n",
    "intPoints = np.array([[768, 1694],[1000, 1694],[1231, 1694]])\n",
    "ax.scatter(x = intPoints[:,0], y = intPoints[:,1])\n",
    "\n",
    "plt.show()\n",
    "\n",
    "plt.savefig('Figures/SingleAntherHeatmap_magmaCmap_blurr_withPoints.png', dpi = 500)"
   ]
  },
  {
   "cell_type": "code",
   "execution_count": 49,
   "metadata": {
    "collapsed": true
   },
   "outputs": [],
   "source": [
    "# add  blur\n",
    "plt.clf()\n",
    "kernel = np.ones((50,50),np.float32)/25\n",
    "imSum2 = np.array(cv2.filter2D(i2.copy(),-1,kernel))\n",
    "\n",
    "# normalize\n",
    "imSum2 = imSum2 / np.max(imSum2) * 100\n",
    "\n",
    "\n",
    "plt.close('all')\n",
    "\n",
    "\n",
    "imNA = imSum2\n",
    "imNA[imNA <= 10] = np.nan\n",
    "fig, ax = plt.subplots()\n",
    "im = ax.imshow(imNA, cmap = colormap_r, interpolation='none')\n",
    "cax = fig.add_axes([0.78, 0.2, 0.05, 0.6])\n",
    "fig.colorbar(im, cax=cax, orientation='vertical')\n",
    "\n",
    "# add contour lines\n",
    "ax.contour(imSum2, levels = range(10, 100, 20), colors = 'k')\n",
    "# plt.xlim([600, 1400])\n",
    "# plt.ylim([ 1700, 700])\n",
    "\n",
    "ax.axis('off')\n",
    "\n",
    "ax.set_xlim([600, 1900])\n",
    "ax.set_ylim([ 1800, 700])\n",
    "\n",
    "intPoints = np.array([[768, 1694],[1000, 1694],[1231, 1694]])\n",
    "#ax.scatter(x = intPoints[:,0], y = intPoints[:,1])\n",
    "\n",
    "plt.show()\n",
    "\n",
    "plt.savefig('Figures/SingleAntherHeatmap_magmaCmap_blurr_NoPoints.png', dpi = 500)"
   ]
  },
  {
   "cell_type": "code",
   "execution_count": 79,
   "metadata": {},
   "outputs": [],
   "source": [
    "plt.clf()\n",
    "kernel = np.ones((1,1),np.float32)/25\n",
    "imSum2 = np.array(cv2.filter2D(i2.copy(),-1,kernel))\n",
    "\n",
    "# normalize\n",
    "imSum2 = imSum2 / np.max(imSum2) * 100\n",
    "\n",
    "\n",
    "plt.close('all')\n",
    "\n",
    "\n",
    "imNA = imSum2\n",
    "imNA[imNA <= 10] = np.nan\n",
    "fig, ax = plt.subplots()\n",
    "im = ax.imshow(imNA, cmap = colormap_r, interpolation='none')\n",
    "cax = fig.add_axes([0.78, 0.2, 0.05, 0.6])\n",
    "cbar = fig.colorbar(im, cax=cax, ticks = range(10, 100, 20),  orientation='vertical')\n",
    "\n",
    "# add contour lines\n",
    "ax.contour(imSum2, levels = [1, 20, 40,60], colors = 'k')\n",
    "cbar.ax.set_yticklabels([str(ii / 100.0) for ii in range(10, 100, 20)])\n",
    "# plt.xlim([600, 1400])\n",
    "# plt.ylim([ 1700, 700])\n",
    "\n",
    "ax.axis('off')\n",
    "\n",
    "ax.set_xlim([600, 1900])\n",
    "ax.set_ylim([ 1800, 700])\n",
    "\n",
    "intPoints = np.array([[768, 1694],[1000, 1694],[1231, 1694]])\n",
    "#ax.scatter(x = intPoints[:,0], y = intPoints[:,1])\n",
    "\n",
    "plt.show()\n",
    "\n",
    "plt.savefig('Figures/SingleAntherHeatmap_magmaCmap_blurr_NoPoints_little.png', dpi = 500)"
   ]
  },
  {
   "cell_type": "code",
   "execution_count": 103,
   "metadata": {},
   "outputs": [],
   "source": [
    "plt.clf()\n",
    "\n",
    "imSum2 = imSum\n",
    "\n",
    "# normalize\n",
    "imSum2 = imSum2 / np.max(imSum2) * 100\n",
    "\n",
    "\n",
    "plt.close('all')\n",
    "\n",
    "\n",
    "imNA = imSum2\n",
    "imNA[imNA <= 10] = np.nan\n",
    "fig, ax = plt.subplots()\n",
    "im = ax.imshow(imNA, cmap = colormap_r, interpolation='none')\n",
    "cax = fig.add_axes([0.78, 0.2, 0.05, 0.6])\n",
    "cbar = fig.colorbar(im, cax=cax, ticks = range(10, 100, 20),  orientation='vertical')\n",
    "\n",
    "# add contour lines\n",
    "#ax.contour(imSum2, levels = [1, 20, 40,60], colors = 'k')\n",
    "cbar.ax.set_yticklabels([str(ii / 100.0) for ii in range(10, 100, 20)])\n",
    "# plt.xlim([600, 1400])\n",
    "# plt.ylim([ 1700, 700])\n",
    "\n",
    "ax.axis('off')\n",
    "\n",
    "ax.set_xlim([600, 1900])\n",
    "ax.set_ylim([ 1800, 700])\n",
    "\n",
    "intPoints = np.array([[768, 1694],[1000, 1694],[1231, 1694]])\n",
    "#ax.scatter(x = intPoints[:,0], y = intPoints[:,1])\n",
    "\n",
    "plt.show()\n",
    "\n",
    "plt.savefig('Figures/SingleAntherHeatmap_magmaCmap_noBlur.png', dpi = 500)"
   ]
  },
  {
   "cell_type": "code",
   "execution_count": 162,
   "metadata": {},
   "outputs": [],
   "source": [
    "plt.clf()\n",
    "\n",
    "\n",
    "\n",
    "\n",
    "stackedImg = np.ones((2000, 2000)) * 0.0\n",
    "\n",
    "for ii in range(len(photoList)):\n",
    "    # read in image\n",
    "    \n",
    "    fpth = photoList[ii]\n",
    "    img = cv2.imread(fpth,0)\n",
    "    img = (img < 255) * 1.0\n",
    "    if ii == 0:\n",
    "        img = cv2.flip(img, 1)\n",
    "    img2 = mask * img\n",
    "    stackedImg = img2 + stackedImg\n",
    "\n",
    "\n",
    "imSum2 = stackedImg.copy() / np.max(stackedImg) * 100\n",
    "\n",
    "plt.close('all')\n",
    "\n",
    "\n",
    "imNA = imSum2\n",
    "imNA[imNA <= 0] = np.nan\n",
    "fig, ax = plt.subplots()\n",
    "im = ax.imshow(imNA, cmap = colormap_r, interpolation='none')\n",
    "cax = fig.add_axes([0.78, 0.2, 0.05, 0.6])\n",
    "cbar = fig.colorbar(im, cax=cax, ticks = range(10, 100, 20),  orientation='vertical')\n",
    "\n",
    "cbar.ax.set_yticklabels([str(ii / 100.0) for ii in range(10, 100, 20)])\n",
    "ax.set_xlim([200, 2200])\n",
    "ax.set_ylim([ 1700, 500])\n",
    "\n",
    "ax.axis('off')\n",
    "\n",
    "\n",
    "plt.show()\n",
    "\n",
    "plt.savefig('Figures/SingleAntherHeatmap_rawData_magmaCmap_noBlur.png', dpi = 500)"
   ]
  },
  {
   "cell_type": "code",
   "execution_count": 159,
   "metadata": {
    "collapsed": true
   },
   "outputs": [],
   "source": [
    "# add blur to stacked Images\n",
    "a = stackedImg.copy()\n",
    "slice_val = 150\n",
    "b = a[slice_val:-slice_val, slice_val:-slice_val]\n",
    "\n",
    "\n",
    "plt.clf()\n",
    "kernel = np.ones((7,7),np.float32)/25.0\n",
    "\n",
    "imNA = b\n",
    "imNA[imNA <= 0] = np.nan\n",
    "imSum2 = np.array(cv2.filter2D(imNA.copy(),-1,kernel))\n",
    "imsum3 = imSum2.copy() / np.nanmax(imSum2) * 100\n",
    "\n",
    "plt.close('all')\n",
    "\n",
    "\n",
    "\n",
    "fig, ax = plt.subplots()\n",
    "im = ax.imshow(imsum3, cmap = colormap_r, interpolation='none')\n",
    "cax = fig.add_axes([0.78, 0.2, 0.05, 0.6])\n",
    "cbar = fig.colorbar(im, cax=cax, ticks = range(10, 100, 20),  orientation='vertical')\n",
    "\n",
    "cbar.ax.set_yticklabels([str(ii / 100.0) for ii in range(10, 100, 20)])\n",
    "ax.set_ylim([ 1600, 500])\n",
    "ax.set_xlim([200, 2200])\n",
    "ax.axis('off')\n",
    "\n",
    "\n",
    "plt.show()\n",
    "\n",
    "plt.savefig('Figures/SingleAntherHeatmap_rawData_Blur_noresamp.png', dpi = 500)"
   ]
  },
  {
   "cell_type": "code",
   "execution_count": 188,
   "metadata": {},
   "outputs": [],
   "source": [
    "# make one figure with all trajectories\n",
    "plt.close(\"all\")\n",
    "fig, axs = plt.subplots(6,5, figsize=(6.5, 7), facecolor='w', edgecolor='k')\n",
    "fig.subplots_adjust(hspace = .05, wspace=.05)\n",
    "\n",
    "axs = axs.ravel()\n",
    "\n",
    "\n",
    "for ii in range(30):\n",
    "    # read in image\n",
    "    \n",
    "    try:\n",
    "        fpth = photoList[ii]\n",
    "        img = cv2.imread(fpth,0)\n",
    "        img = (img < 255) * 1.0\n",
    "        if ii == 0:\n",
    "            img = cv2.flip(img, 1)\n",
    "            \n",
    "        axs[ii].imshow(img, cmap = colormap_r)\n",
    "    except:\n",
    "        pass\n",
    "    \n",
    "    axs[ii].axis('off')\n",
    "    \n",
    "fig.savefig('Figures/EachPhoto_Separate.png', dpi = 800, bbox_inches='tight')"
   ]
  },
  {
   "cell_type": "code",
   "execution_count": null,
   "metadata": {
    "collapsed": true
   },
   "outputs": [],
   "source": []
  }
 ],
 "metadata": {
  "anaconda-cloud": {},
  "kernelspec": {
   "display_name": "python2_opencv",
   "language": "python",
   "name": "python2_opencv"
  },
  "language_info": {
   "codemirror_mode": {
    "name": "ipython",
    "version": 2
   },
   "file_extension": ".py",
   "mimetype": "text/x-python",
   "name": "python",
   "nbconvert_exporter": "python",
   "pygments_lexer": "ipython2",
   "version": "2.7.13"
  }
 },
 "nbformat": 4,
 "nbformat_minor": 1
}
