{
 "cells": [
  {
   "cell_type": "markdown",
   "metadata": {},
   "source": [
    "## Callin Switzer\n",
    "\n",
    "Update 10 Feb 2017\n",
    "\n",
    "Image segmentation to count fruits and measure fruits that were collected in the Kalmia pollination experiment"
   ]
  },
  {
   "cell_type": "code",
   "execution_count": 1,
   "metadata": {
    "collapsed": false
   },
   "outputs": [],
   "source": [
    "import cv2"
   ]
  },
  {
   "cell_type": "code",
   "execution_count": 2,
   "metadata": {
    "collapsed": false
   },
   "outputs": [
    {
     "name": "stderr",
     "output_type": "stream",
     "text": [
      "/Users/callinswitzer/anaconda/lib/python2.7/site-packages/matplotlib/font_manager.py:273: UserWarning: Matplotlib is building the font cache using fc-list. This may take a moment.\n",
      "  warnings.warn('Matplotlib is building the font cache using fc-list. This may take a moment.')\n"
     ]
    }
   ],
   "source": [
    "import numpy as np\n",
    "import matplotlib\n",
    "matplotlib.use(\"TkAgg\") # have to use this for tkinter to  work below\n",
    "from matplotlib import pyplot as plt\n",
    "%matplotlib tk\n",
    "\n",
    "# scikit image\n",
    "import skimage\n",
    "from skimage import io\n",
    "\n",
    "import os\n",
    "import pandas as pd"
   ]
  },
  {
   "cell_type": "code",
   "execution_count": null,
   "metadata": {
    "collapsed": true
   },
   "outputs": [],
   "source": [
    "%qtconsole"
   ]
  },
  {
   "cell_type": "code",
   "execution_count": 3,
   "metadata": {
    "collapsed": true
   },
   "outputs": [],
   "source": [
    "# list files in directory\n",
    "# Not adding the images to supplemental data, because they're too big to include\n",
    "os.chdir(\"/Users/callinswitzer/Dropbox/ExperSummer2016/Kalmia/KalmiaFruits_28Sept2016/\")\n",
    "mypath = os.getcwd()\n",
    "onlyfiles = [f for f in os.listdir(mypath) if os.path.isfile(os.path.join(mypath, f))]"
   ]
  },
  {
   "cell_type": "code",
   "execution_count": 4,
   "metadata": {
    "collapsed": true
   },
   "outputs": [],
   "source": [
    "# function to find bad contours\n",
    "def is_contour_good(c, img):\n",
    "    # approximate the contour\n",
    "    area1 = cv2.contourArea(c, False) \n",
    "\n",
    "    # the contour is 'bad' if it is really small (less then 1000 px)\n",
    "    # the contour is bad, if it is on the border\n",
    "    x,y,w,h = cv2.boundingRect(c)       \n",
    "    if x <= 1 or y <=1 or x+w+1 >= img.shape[1] or y+h+1 >= img.shape[0] or area1 < 1000:\n",
    "        return False              \n",
    "    else:\n",
    "        return True "
   ]
  },
  {
   "cell_type": "code",
   "execution_count": 5,
   "metadata": {
    "collapsed": false
   },
   "outputs": [],
   "source": [
    "photoList = [ x for x in onlyfiles if \"DSC\" not in x and not x.startswith('.') and x.endswith('.jpg')]"
   ]
  },
  {
   "cell_type": "code",
   "execution_count": 6,
   "metadata": {
    "collapsed": false
   },
   "outputs": [
    {
     "data": {
      "text/plain": [
       "92"
      ]
     },
     "execution_count": 6,
     "metadata": {},
     "output_type": "execute_result"
    }
   ],
   "source": [
    "len(photoList) # number of images that I'll process"
   ]
  },
  {
   "cell_type": "code",
   "execution_count": 7,
   "metadata": {
    "collapsed": true
   },
   "outputs": [],
   "source": [
    "plants = [v.translate(None, '.jpg') for v in photoList]"
   ]
  },
  {
   "cell_type": "code",
   "execution_count": 8,
   "metadata": {
    "collapsed": false
   },
   "outputs": [],
   "source": [
    "# function for kalmia segmentation\n",
    "def kalmSeg(kk):\n",
    "    # read in image as greyscale\n",
    "    fpth = photoList[kk]\n",
    "    img = cv2.imread(fpth,0)\n",
    "\n",
    "    # Otsu's thresholding after Gaussian filtering\n",
    "    blur = cv2.GaussianBlur(img,(5,5),0)\n",
    "    # ret3,th3 = cv2.threshold(blur,0,255,cv2.THRESH_BINARY_INV+cv2.THRESH_OTSU)\n",
    "    ret,th3 = cv2.threshold(blur,125,255,cv2.THRESH_BINARY_INV)\n",
    "    # I manually chose a threshold of 125 above\n",
    "\n",
    "    # now get rid of the leafy bits\n",
    "    kernel = cv2.getStructuringElement(cv2.MORPH_ELLIPSE, (5,5))\n",
    "    erosion = cv2.erode(th3,kernel,iterations = 10)\n",
    "    dilation = cv2.dilate(erosion, kernel, iterations = 10)\n",
    "\n",
    "    # close small holes\n",
    "    image = dilation.copy()\n",
    "    (cnts, _) = cv2.findContours(image.copy(), cv2.RETR_LIST, cv2.CHAIN_APPROX_SIMPLE)\n",
    "    mask = np.ones(image.shape[:2], dtype=\"uint8\") * 0 # create a blank black mask\n",
    "\n",
    "    # loop over the contours\n",
    "    for c in cnts:\n",
    "        # if the contour is good, draw it on the mask (draw white on a black background)\n",
    "        if is_contour_good(c, image):\n",
    "            cv2.drawContours(mask, [c], -1, 255, -1)\n",
    "\n",
    "    # see if any bad contours were found\n",
    "    filHoles = 'no holes were filled--' + str((mask == image).all()) # will be false if a small hole was filled\n",
    "\n",
    "    # remove the contours from the image and show the resulting images\n",
    "    image2 = mask.copy()\n",
    "\n",
    "    # find contours for fruits\n",
    "    cts, im2 = cv2.findContours(image2.copy(),  cv2.RETR_LIST, cv2.CHAIN_APPROX_SIMPLE)\n",
    "\n",
    "    perimeters = [cv2.arcLength(cts[ii], True) for ii in range(len(cts))]\n",
    "\n",
    "    # calculate areas\n",
    "    areas = [cv2.contourArea(cts[ii], False) for ii in range(len(cts))]\n",
    "\n",
    "    # calculate circularity\n",
    "    circularity = [(x **2) / (4*3.14159*y) for x,y in zip(perimeters, areas)]\n",
    "\n",
    "\n",
    "    arrs = np.array([i < 2 for i in circularity]) # get only roughly circular objects\n",
    "    # circles will be close to 0\n",
    "\n",
    "    ctd = np.array(cts)\n",
    "    filt_contours = ctd[arrs] # will let me see if we miss any fruits\n",
    "    \n",
    "    # draw contours\n",
    "    cv2.drawContours(img, filt_contours, -1, (255,255,0), -1) # note, this modifies the original image, \"img\"\n",
    "\n",
    "    # calculate diameters in pixels\n",
    "    # area = pi * r ^2\n",
    "    # r = sqrt(area / pi)\n",
    "    radii = np.array([np.sqrt(aa / 3.14159) for aa in areas])\n",
    "\n",
    "    # convert to mm instead of pixels\n",
    "    dia_mm = np.array([aa2/max(radii) * 2 * 10 for aa2 in radii])\n",
    "\n",
    "    # show circle with largest diameter (black)\n",
    "    bgCirc = np.array(radii == radii.max())\n",
    "\n",
    "    # draw filtered contours (black)\n",
    "    cv2.drawContours(img, ctd[bgCirc], -1, (0,255,0), -1) # note, this modifies the original image, \"img\"\n",
    "    #io.imshow(img)\n",
    "\n",
    "    # compute the center of the contour\n",
    "    Moms = np.array([cv2.moments(cc) for cc in cts])\n",
    "    # get xy coordinates\n",
    "    cs = np.array([[int(M[\"m10\"] / M[\"m00\"]), int(M[\"m01\"] / M[\"m00\"])] for M in Moms])\n",
    "    xx = np.array([cs[ii, 0] for ii in range(len(cs))])\n",
    "    yy = np.array([cs[ii, 1] for ii in range(len(cs))])\n",
    "\n",
    "    # show image\n",
    "    plt.clf()\n",
    "    io.imshow(img)\n",
    "\n",
    "    # add centers\n",
    "    plt.plot(xx, yy, 'rp')\n",
    "    plt.xlim(6000, 0)\n",
    "    plt.ylim(0, 4000)\n",
    "\n",
    "    # label diameters\n",
    "    labels = ['dia_{0}'.format(round(i, 2)) for i in dia_mm]\n",
    "    for label, x, y in zip(labels, xx, yy):\n",
    "        plt.annotate(\n",
    "            label, color = 'grey', size = 10,\n",
    "            xy = (x, y), xytext = (0, 0),\n",
    "            textcoords = 'offset points', ha = 'right', va = 'bottom')\n",
    "    plt.show()\n",
    "\n",
    "    # save plot, but make new directory if it doesn't already exist\n",
    "    if not os.path.isdir(\"SegmentedImages/\"):\n",
    "        os.mkdir(\"SegmentedImages/\")\n",
    "        \n",
    "    plt.savefig('SegmentedImages/' + str(plants[kk]) + '_segmented.png')\n",
    "\n",
    "    print len(xx) # number of fruits (including big circle)\n",
    "    print filHoles\n",
    "    print 'kk = ' + str(kk)\n",
    "    \n",
    "    # save .csv file with information\n",
    "    # return a pandas data frame\n",
    "    tmp_DF = pd.DataFrame({'areas': areas, \n",
    "              'perimeters': perimeters, \n",
    "              'dia_mm': np.ndarray.tolist(dia_mm), \n",
    "             'plantNum': plants[kk]})\n",
    "    return tmp_DF  "
   ]
  },
  {
   "cell_type": "code",
   "execution_count": 9,
   "metadata": {
    "collapsed": false
   },
   "outputs": [],
   "source": [
    "## Not run\n",
    "\n",
    "# # create empty data frame for saving image data\n",
    "# df_final = pd.DataFrame({'areas': [], \n",
    "#               'perimeters': [], \n",
    "#               'dia_mm': [], \n",
    "#              'plantNum': []})\n",
    "\n",
    "# #loop through images and save images\n",
    "# for yy in range(len(plants)):\n",
    "#     tmp_DF = kalmSeg(yy)\n",
    "    \n",
    "#     #append to final data frame\n",
    "#     df_final = df_final.append(tmp_DF)\n",
    "    "
   ]
  },
  {
   "cell_type": "code",
   "execution_count": 10,
   "metadata": {
    "collapsed": false
   },
   "outputs": [],
   "source": [
    "# write the data to a file\n",
    "# df_final.to_csv('SegmentedImages/kalmiaFruitFinal.csv')"
   ]
  },
  {
   "cell_type": "code",
   "execution_count": 11,
   "metadata": {
    "collapsed": false
   },
   "outputs": [
    {
     "name": "stdout",
     "output_type": "stream",
     "text": [
      "{'commit_hash': u'5c9c918',\n",
      " 'commit_source': 'installation',\n",
      " 'default_encoding': 'UTF-8',\n",
      " 'ipython_path': '/Users/callinswitzer/anaconda/lib/python2.7/site-packages/IPython',\n",
      " 'ipython_version': '5.1.0',\n",
      " 'os_name': 'posix',\n",
      " 'platform': 'Darwin-15.6.0-x86_64-i386-64bit',\n",
      " 'sys_executable': '/Users/callinswitzer/anaconda/bin/python',\n",
      " 'sys_platform': 'darwin',\n",
      " 'sys_version': '2.7.9 |Anaconda custom (x86_64)| (default, Dec 15 2014, 10:37:34) \\n[GCC 4.2.1 (Apple Inc. build 5577)]'}\n"
     ]
    }
   ],
   "source": [
    "# print system info\n",
    "import IPython\n",
    "print IPython.sys_info()"
   ]
  },
  {
   "cell_type": "code",
   "execution_count": 12,
   "metadata": {
    "collapsed": false
   },
   "outputs": [
    {
     "name": "stdout",
     "output_type": "stream",
     "text": [
      "alabaster==0.7.9\r\n",
      "anaconda-clean==1.0\r\n",
      "anaconda-client==1.5.1\r\n",
      "anaconda-navigator==1.3.1\r\n",
      "appnope==0.1.0\r\n",
      "appscript==1.0.1\r\n",
      "argcomplete==1.0.0\r\n",
      "astroid==1.4.7\r\n",
      "astropy==1.2.1\r\n",
      "Babel==2.3.4\r\n",
      "backports-abc==0.4\r\n",
      "backports.shutil-get-terminal-size==1.0.0\r\n",
      "backports.ssl-match-hostname==3.4.0.2\r\n",
      "beautifulsoup4==4.5.1\r\n",
      "bitarray==0.8.1\r\n",
      "blaze==0.10.1\r\n",
      "bokeh==0.12.2\r\n",
      "boto==2.42.0\r\n",
      "Bottleneck==1.1.0\r\n",
      "cdecimal==2.3\r\n",
      "cffi==1.7.0\r\n",
      "chest==0.2.3\r\n",
      "click==6.6\r\n",
      "cloudpickle==0.2.1\r\n",
      "clyent==1.2.2\r\n",
      "colorama==0.3.7\r\n",
      "conda==4.2.11\r\n",
      "conda-build==2.0.2\r\n",
      "configobj==5.0.6\r\n",
      "configparser==3.5.0\r\n",
      "contextlib2==0.5.3\r\n",
      "cryptography==1.3.1\r\n",
      "cycler==0.10.0\r\n",
      "Cython==0.24.1\r\n",
      "cytoolz==0.8.0\r\n",
      "dask==0.11.0\r\n",
      "datashape==0.5.2\r\n",
      "decorator==4.0.10\r\n",
      "dill==0.2.5\r\n",
      "docutils==0.12\r\n",
      "dynd==0.7.3.dev1\r\n",
      "enum34==1.1.6\r\n",
      "et-xmlfile==1.0.1\r\n",
      "fastcache==1.0.2\r\n",
      "filelock==2.0.6\r\n",
      "Flask==0.11.1\r\n",
      "Flask-Cors==2.1.2\r\n",
      "funcsigs==1.0.2\r\n",
      "functools32==3.2.3.post2\r\n",
      "futures==3.0.5\r\n",
      "gevent==1.1.2\r\n",
      "greenlet==0.4.10\r\n",
      "grin==1.2.1\r\n",
      "h5py==2.6.0\r\n",
      "HeapDict==1.0.0\r\n",
      "html5lib==0.999\r\n",
      "idna==2.1\r\n",
      "imagesize==0.7.1\r\n",
      "ipaddress==1.0.14\r\n",
      "ipykernel==4.5.0\r\n",
      "ipython==5.1.0\r\n",
      "ipython-genutils==0.1.0\r\n",
      "ipywidgets==5.2.2\r\n",
      "itsdangerous==0.24\r\n",
      "jdcal==1.2\r\n",
      "jedi==0.9.0\r\n",
      "Jinja2==2.8\r\n",
      "jsonschema==2.5.1\r\n",
      "jupyter==1.0.0\r\n",
      "jupyter-client==4.4.0\r\n",
      "jupyter-console==5.0.0\r\n",
      "jupyter-core==4.2.0\r\n",
      "lazy-object-proxy==1.2.1\r\n",
      "llvmlite==0.13.0\r\n",
      "locket==0.2.0\r\n",
      "lxml==3.6.4\r\n",
      "MarkupSafe==0.23\r\n",
      "matplotlib==1.5.3\r\n",
      "mistune==0.7.3\r\n",
      "mpmath==0.19\r\n",
      "multipledispatch==0.4.8\r\n",
      "nb-anacondacloud==1.2.0\r\n",
      "nb-conda==2.0.0\r\n",
      "nb-conda-kernels==2.0.0\r\n",
      "nbconvert==4.2.0\r\n",
      "nbformat==4.1.0\r\n",
      "nbpresent==3.0.2\r\n",
      "networkx==1.11\r\n",
      "nltk==3.2.1\r\n",
      "nose==1.3.7\r\n",
      "notebook==4.2.3\r\n",
      "numba==0.28.1+0.gfe99fbc.dirty\r\n",
      "numexpr==2.6.1\r\n",
      "numpy==1.11.1\r\n",
      "odo==0.5.0\r\n",
      "openpyxl==2.3.2\r\n",
      "pandas==0.18.1\r\n",
      "partd==0.3.6\r\n",
      "path.py==0.0.0\r\n",
      "pathlib2==2.1.0\r\n",
      "patsy==0.4.1\r\n",
      "pep8==1.7.0\r\n",
      "pexpect==4.0.1\r\n",
      "pickleshare==0.7.4\r\n",
      "Pillow==3.3.1\r\n",
      "pkginfo==1.3.2\r\n",
      "ply==3.9\r\n",
      "prompt-toolkit==1.0.3\r\n",
      "psutil==4.3.1\r\n",
      "psycopg2==2.6.2\r\n",
      "ptyprocess==0.5.1\r\n",
      "py==1.4.31\r\n",
      "pyasn1==0.1.9\r\n",
      "PyAudio==0.2.7\r\n",
      "pycosat==0.6.1\r\n",
      "pycparser==2.14\r\n",
      "pycrypto==2.6.1\r\n",
      "pycurl==7.19.5.1\r\n",
      "pyflakes==1.3.0\r\n",
      "Pygments==2.1.3\r\n",
      "pylint==1.5.4\r\n",
      "pyOpenSSL==16.0.0\r\n",
      "pyparsing==2.1.4\r\n",
      "pytest==2.9.2\r\n",
      "python-dateutil==2.5.3\r\n",
      "pytz==2016.6.1\r\n",
      "PyYAML==3.12\r\n",
      "pyzmq==15.4.0\r\n",
      "QtAwesome==0.3.3\r\n",
      "qtconsole==4.2.1\r\n",
      "QtPy==1.1.2\r\n",
      "redis==2.10.5\r\n",
      "requests==2.11.1\r\n",
      "rope==0.9.4\r\n",
      "ruamel-yaml===-VERSION\r\n",
      "scikit-image==0.12.3\r\n",
      "scikit-learn==0.17.1\r\n",
      "scipy==0.18.1\r\n",
      "seaborn==0.7.1\r\n",
      "simplegeneric==0.8.1\r\n",
      "singledispatch==3.4.0.3\r\n",
      "six==1.10.0\r\n",
      "snowballstemmer==1.2.1\r\n",
      "sockjs-tornado==1.0.3\r\n",
      "Sphinx==1.4.6\r\n",
      "spyder==3.0.0\r\n",
      "SQLAlchemy==1.0.13\r\n",
      "statsmodels==0.6.1\r\n",
      "sympy==1.0\r\n",
      "tables==3.2.3.1\r\n",
      "terminado==0.6\r\n",
      "toolz==0.8.0\r\n",
      "tornado==4.4.1\r\n",
      "traitlets==4.3.0\r\n",
      "unicodecsv==0.14.1\r\n",
      "virtualenv==15.0.3\r\n",
      "wcwidth==0.1.7\r\n",
      "Werkzeug==0.11.11\r\n",
      "widgetsnbextension==1.2.6\r\n",
      "wrapt==1.10.6\r\n",
      "xlrd==1.0.0\r\n",
      "XlsxWriter==0.9.3\r\n",
      "xlwings==0.10.0\r\n",
      "xlwt==1.1.2\r\n"
     ]
    }
   ],
   "source": [
    "# show installed packages and versions\n",
    "!pip freeze "
   ]
  },
  {
   "cell_type": "code",
   "execution_count": null,
   "metadata": {
    "collapsed": true
   },
   "outputs": [],
   "source": []
  }
 ],
 "metadata": {
  "anaconda-cloud": {},
  "kernelspec": {
   "display_name": "Python [default]",
   "language": "python",
   "name": "python2"
  },
  "language_info": {
   "codemirror_mode": {
    "name": "ipython",
    "version": 2
   },
   "file_extension": ".py",
   "mimetype": "text/x-python",
   "name": "python",
   "nbconvert_exporter": "python",
   "pygments_lexer": "ipython2",
   "version": "2.7.9"
  }
 },
 "nbformat": 4,
 "nbformat_minor": 1
}
