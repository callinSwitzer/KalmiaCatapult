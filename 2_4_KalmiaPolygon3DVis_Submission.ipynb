{
 "cells": [
  {
   "cell_type": "markdown",
   "metadata": {},
   "source": [
    "### Callin Switzer\n",
    "\n",
    "Original: 3 Nov 2016\n",
    "Update: Feb 10, 2016\n",
    "\n",
    "Note: Use a custom Python environment [vis_env]"
   ]
  },
  {
   "cell_type": "markdown",
   "metadata": {},
   "source": [
    "- Read in all the Kalmia polygon images (from R: 2_3_ImportDigitizedPolygonsAndSaveAsImages_Submission.RMD)\n",
    "\n",
    "- Extrude all of the images so that they are in 3D space\n",
    "\n",
    "- Resample all of those volumes, and randomly rotate them into 1/10 of 360 degrees\n",
    "\n",
    "- Add all of the resampled volumes together to get a \"mean\" location that pollen will be\n",
    "\n",
    "- Visualize and save a heatmap in 3D space"
   ]
  },
  {
   "cell_type": "code",
   "execution_count": 1,
   "metadata": {
    "collapsed": true
   },
   "outputs": [],
   "source": [
    "# open CV\n",
    "import cv2\n",
    "\n",
    "# helpers\n",
    "import numpy as np\n",
    "import matplotlib\n",
    "matplotlib.use(\"TkAgg\") # have to use this for tkinter to  work below\n",
    "from matplotlib import pyplot as plt\n",
    "%matplotlib tk\n",
    "import os\n",
    "import pandas as pd\n",
    "import time\n",
    "import sys"
   ]
  },
  {
   "cell_type": "code",
   "execution_count": 2,
   "metadata": {
    "collapsed": true
   },
   "outputs": [],
   "source": [
    "# scikit image\n",
    "import skimage\n",
    "from skimage import io"
   ]
  },
  {
   "cell_type": "code",
   "execution_count": 3,
   "metadata": {
    "collapsed": true
   },
   "outputs": [],
   "source": [
    "# image vis packages\n",
    "from mpl_toolkits.mplot3d import Axes3D\n",
    "import scipy\n",
    "import scipy.ndimage\n",
    "\n",
    "# 3D vis and stats\n",
    "from mayavi import mlab\n",
    "from scipy import stats"
   ]
  },
  {
   "cell_type": "code",
   "execution_count": null,
   "metadata": {
    "collapsed": true
   },
   "outputs": [],
   "source": [
    "# %qtconsole"
   ]
  },
  {
   "cell_type": "code",
   "execution_count": 4,
   "metadata": {
    "collapsed": true
   },
   "outputs": [],
   "source": [
    "os.chdir(\"/Users/callinswitzer/Dropbox/ExperSummer2016/Kalmia/Manuscript/DatasetsSupplemental/KalmiaDigitizedPolygon\")"
   ]
  },
  {
   "cell_type": "code",
   "execution_count": 5,
   "metadata": {
    "collapsed": true
   },
   "outputs": [],
   "source": [
    "# list files in directory\n",
    "mypath = os.getcwd()\n",
    "onlyfiles = [f for f in os.listdir(mypath) if os.path.isfile(os.path.join(mypath, f))]\n",
    "photoList = [ x for x in onlyfiles if not x.startswith('.') and x.endswith('.png')] # all of the polygons"
   ]
  },
  {
   "cell_type": "code",
   "execution_count": 6,
   "metadata": {
    "collapsed": false
   },
   "outputs": [
    {
     "data": {
      "text/plain": [
       "29"
      ]
     },
     "execution_count": 6,
     "metadata": {},
     "output_type": "execute_result"
    }
   ],
   "source": [
    "len(photoList) # 29 polygons"
   ]
  },
  {
   "cell_type": "code",
   "execution_count": 7,
   "metadata": {
    "collapsed": false
   },
   "outputs": [],
   "source": [
    "# show 2D polygon\n",
    "img = io.imread(photoList[8], as_grey=True)\n",
    "io.imshow(img)"
   ]
  },
  {
   "cell_type": "markdown",
   "metadata": {
    "collapsed": true
   },
   "source": [
    "# Read in all images, resize, and put in an array"
   ]
  },
  {
   "cell_type": "code",
   "execution_count": 8,
   "metadata": {
    "collapsed": true
   },
   "outputs": [],
   "source": [
    "# read in all images in direcory, resize, and make a big numpy array\n",
    "newSideLen = 200\n",
    "img = np.array(cv2.imread(photoList[1], 0))\n",
    "r = float(newSideLen) / img.shape[1]\n",
    "dim = (int(newSideLen), int(img.shape[0] * r))\n",
    "\n",
    "stackedImgs = np.ones((newSideLen, newSideLen, len(photoList)))\n",
    "\n",
    "\n",
    "for hh in range(len(photoList)):\n",
    "    img = np.array(cv2.imread(photoList[hh], 0)) # read in image black and white\n",
    "\n",
    "    # perform the resizing\n",
    "    resized = cv2.resize(img, dim, interpolation = cv2.INTER_AREA)\n",
    "\n",
    "    # convert to binary\n",
    "    resized = np.array((resized < 255) * 1.0)\n",
    "\n",
    "    # clear edges of resized image (grid from graph)\n",
    "    resized[:, 0:newSideLen/20] = 0\n",
    "    resized[newSideLen - newSideLen/20:newSideLen, :] = 0\n",
    "    \n",
    "    # add to stacked array\n",
    "    stackedImgs[:,:,hh] = resized"
   ]
  },
  {
   "cell_type": "code",
   "execution_count": 9,
   "metadata": {
    "collapsed": false
   },
   "outputs": [
    {
     "data": {
      "text/plain": [
       "<mayavi.modules.orientation_axes.OrientationAxes at 0x135850230>"
      ]
     },
     "execution_count": 9,
     "metadata": {},
     "output_type": "execute_result"
    }
   ],
   "source": [
    "# visualize a single extruded volume\n",
    "# get image to rotate\n",
    "mlab.close(all = True)\n",
    "kk = 8\n",
    "\n",
    "\n",
    "pollWidth = newSideLen / 100 / 2\n",
    "midpt = newSideLen / 2\n",
    "\n",
    "# make temporary array\n",
    "stackedRot = np.ones(shape=(np.repeat(newSideLen, [3]))) * 0.0\n",
    "w,h = stackedRot.shape[:2]\n",
    "\n",
    "resized = stackedImgs[:,:,kk]\n",
    "resized_flip = np.rot90(resized, 3)\n",
    "\n",
    "# get rotatation matrix\n",
    "M = cv2.getRotationMatrix2D((newSideLen/2,newSideLen/2), 36*0, 1.0)\n",
    "\n",
    "# reset blank 3D array\n",
    "stackedRot = stackedRot * 0.0\n",
    "\n",
    "# get image to rotate into 3D space\n",
    "stackedRot[midpt-pollWidth:midpt + pollWidth,:,:] = stackedRot[midpt-pollWidth:midpt + pollWidth,:,:] + resized_flip\n",
    "\n",
    "fig = mlab.figure(size = (1024,768),\n",
    "            bgcolor = (1,1,1), fgcolor = (0, 0, 0))\n",
    "\n",
    "\n",
    "mlab.contour3d(stackedRot,colormap = 'Greys')\n",
    "mlab.orientation_axes()"
   ]
  },
  {
   "cell_type": "code",
   "execution_count": null,
   "metadata": {
    "collapsed": false
   },
   "outputs": [],
   "source": [
    "# save image, after it's positioned how you want\n",
    "# saveDir = '/Users/callinswitzer/Dropbox/ExperSummer2016/Kalmia/Manuscript/Media/'\n",
    "# mlab.savefig(saveDir + 'SinglePollenVolume' + '.png', size = (1440, 1024))"
   ]
  },
  {
   "cell_type": "markdown",
   "metadata": {},
   "source": [
    "# Resample images and put in 3D space"
   ]
  },
  {
   "cell_type": "code",
   "execution_count": 10,
   "metadata": {
    "collapsed": true
   },
   "outputs": [],
   "source": [
    "def resampRotate(stackedImgs):\n",
    "    '''\n",
    "    Resample all the images (same number of photos that I took)\n",
    "    Randomly rotate images in 1/10 of 360 degree increments\n",
    "    Put into 3D space\n",
    "    '''\n",
    "    \n",
    "    # prepare to resample resized images\n",
    "    pollWidth = newSideLen / 100 / 2\n",
    "    midpt = newSideLen / 2\n",
    "\n",
    "    # make temporary array\n",
    "    stackedRot = np.ones(shape=(np.repeat(newSideLen, [3]))) * 0.0\n",
    "    w,h = stackedRot.shape[:2]\n",
    "\n",
    "\n",
    "    # make final array\n",
    "    stackedRot_fin = np.ones(shape=(np.repeat(newSideLen, [3]))) * 0.0\n",
    "    \n",
    "    \n",
    "    # resample all images\n",
    "    photoSamp = np.random.choice(range(len(photoList)), size = len(photoList), replace = True)\n",
    "    # resample rotation angles\n",
    "    angles = np.random.choice(range(10), len(photoList), True)\n",
    "\n",
    "\n",
    "    for kk in photoSamp:\n",
    "\n",
    "        # get image to rotate\n",
    "        resized = stackedImgs[:,:,kk]\n",
    "        resized_flip = np.rot90(resized, 3)\n",
    "\n",
    "        # get rotatation matrix\n",
    "        M = cv2.getRotationMatrix2D((newSideLen/2,newSideLen/2), 36*angles[kk], 1.0)\n",
    "\n",
    "        # reset blank 3D array\n",
    "        stackedRot = stackedRot * 0.0\n",
    "\n",
    "        # extrude image into 3D space\n",
    "        stackedRot[midpt-pollWidth:midpt + pollWidth,:,:] = stackedRot[midpt-pollWidth:midpt + pollWidth,:,:] + resized_flip\n",
    "\n",
    "        # rotate image in 3D, by doing one level at a time\n",
    "        for ii in range(newSideLen):\n",
    "            stackedRot_fin[:,:,ii] = ((cv2.warpAffine(stackedRot[:,:,ii], M, (w, h)) > 0.3) * 1 +\n",
    "                                  stackedRot_fin[:,:,ii])\n",
    "        \n",
    "    return stackedRot_fin"
   ]
  },
  {
   "cell_type": "code",
   "execution_count": 11,
   "metadata": {
    "collapsed": true
   },
   "outputs": [],
   "source": [
    "# generate a single bootstrap sample of a stacked array\n",
    "rotimg = resampRotate(stackedImgs)"
   ]
  },
  {
   "cell_type": "code",
   "execution_count": 12,
   "metadata": {
    "collapsed": false
   },
   "outputs": [],
   "source": [
    "# Visualize single bootstrap sample\n",
    "mlab.close(all = True)\n",
    "density = rotimg / (29.0)\n",
    "\n",
    "fig = mlab.figure(size = (1024,768),\n",
    "            bgcolor = (1,1,1), fgcolor = (0.5, 0.5, 0.5))\n",
    "mlab.contour3d(density, contours= [0.001], opacity = 0.2, colormap = \"hsv\")\n",
    "mlab.orientation_axes()\n",
    "colorbar = mlab.colorbar(orientation = 'vertical', label_fmt = '%.1f')\n",
    "colorbar.scalar_bar_representation.position = [0.8, 0.2]\n",
    "colorbar.scalar_bar_representation.position2 = [0.05, 0.6]"
   ]
  },
  {
   "cell_type": "code",
   "execution_count": null,
   "metadata": {
    "collapsed": true
   },
   "outputs": [],
   "source": [
    "# repeat the resampling method 500 times\n",
    "\n",
    "# res_fin = np.ones(shape=(np.repeat(newSideLen, [3]))) * 0.0\n",
    "\n",
    "# stt = time.time()\n",
    "# for ii in range(500):\n",
    "#     tmp = resampRotate(stackedImgs)\n",
    "#     res_fin = res_fin + tmp\n",
    "#     print ii, time.time() - stt # takes about 8 seconds each"
   ]
  },
  {
   "cell_type": "code",
   "execution_count": null,
   "metadata": {
    "collapsed": true
   },
   "outputs": [],
   "source": [
    "# save numpy array, so I don't have to keep running the simulation\n",
    "# outfile = '/Users/callinswitzer/Desktop/array5.npy'\n",
    "# np.save(outfile, res_fin)"
   ]
  },
  {
   "cell_type": "markdown",
   "metadata": {},
   "source": [
    "# Once simulations are done, start at this point\n",
    "\n",
    "Visualize the 3D Heatmap and contours\n",
    "\n",
    "Save figures for publication"
   ]
  },
  {
   "cell_type": "code",
   "execution_count": 13,
   "metadata": {
    "collapsed": true
   },
   "outputs": [],
   "source": [
    "# start here, if not conducting the simulations\n",
    "# load np array\n",
    "res_fin = np.load('/Users/callinswitzer/Dropbox/ExperSummer2016/Kalmia/Manuscript/DatasetsSupplemental/array5.npy')\n",
    "intPoints = np.round(np.array([[768, 1694],[1000, 1694],[1231, 1694]]) / 10.0) # points that correspond to flowers\n",
    "density = res_fin / (29 * 500) # dividing array by max possible value (29 videos, 500 resamples)"
   ]
  },
  {
   "cell_type": "code",
   "execution_count": 14,
   "metadata": {
    "collapsed": true
   },
   "outputs": [],
   "source": [
    "# visualize a few contours from all bootstrap samples\n",
    "\n",
    "mlab.close(all = True)\n",
    "density = res_fin / (29 * 500) \n",
    "\n",
    "# this cuts the array in half, so we can see inside\n",
    "# density[101:200, :, :] = 0\n",
    "\n",
    "fig = mlab.figure(size = (1024,768),\n",
    "            bgcolor = (1,1,1), fgcolor = (0.5, 0.5, 0.5))\n",
    "mlab.contour3d(density, contours= [0.01, 0.2, 0.4], opacity = 0.2, colormap = \"hot\")\n",
    "mlab.orientation_axes()\n",
    "colorbar = mlab.colorbar(orientation = 'vertical', label_fmt = '%.1f')\n",
    "colorbar.scalar_bar_representation.position = [0.8, 0.2]\n",
    "colorbar.scalar_bar_representation.position2 = [0.05, 0.6]\n",
    "#     mlab.points3d([101, 101, 101], intPoints[:,0] + 1, 200 - intPoints[:,1], colormap = 'hot', \n",
    "#                         scale_mode='none', scale_factor=2, opacity = 1)\n",
    "\n",
    "# mlab.savefig('halfSizeKalmiaMap' + '.png', size = (1440, 1024))"
   ]
  },
  {
   "cell_type": "code",
   "execution_count": 15,
   "metadata": {
    "collapsed": false
   },
   "outputs": [],
   "source": [
    "# visualize array and save figure for paper\n",
    "\n",
    "mlab.close(all = True)\n",
    "density = res_fin / (29 * 500) \n",
    "# this cuts the array in half\n",
    "density[101:200, :, :] = 0\n",
    "\n",
    "fig = mlab.figure(size = (1024,768),\n",
    "            bgcolor = (1,1,1), fgcolor = (0.5, 0.5, 0.5))\n",
    "mlab.contour3d(density, contours= 50, opacity = 0.2, colormap = \"hot\")\n",
    "mlab.orientation_axes()\n",
    "colorbar = mlab.colorbar(orientation = 'vertical', label_fmt = '%.1f')\n",
    "colorbar.scalar_bar_representation.position = [0.8, 0.2]\n",
    "colorbar.scalar_bar_representation.position2 = [0.05, 0.6]\n",
    "#     mlab.points3d([101, 101, 101], intPoints[:,0] + 1, 200 - intPoints[:,1], colormap = 'hot', \n",
    "#                         scale_mode='none', scale_factor=2, opacity = 1)\n",
    "\n",
    "# mlab.savefig('halfSizeKalmiaMap' + '.png', size = (1440, 1024))"
   ]
  },
  {
   "cell_type": "code",
   "execution_count": null,
   "metadata": {
    "collapsed": true
   },
   "outputs": [],
   "source": [
    "# # Visualize with slice cut into array -- make into a movie\n",
    "# newSideLen = 200\n",
    "# os.chdir('/Users/callinswitzer/Dropbox/ExperSummer2016/Kalmia/KalmiaProject/KalmMovie3')\n",
    "\n",
    "# for ctr in range(40):\n",
    "    \n",
    "#     mlab.close(all = True)\n",
    "#     density = res_fin / (29 * 500)\n",
    "#     # density[:, 102:newSideLen, (5 * ctr):newSideLen] = 0\n",
    "#     density[(5 * ctr):newSideLen, 102:newSideLen, :] = 0\n",
    "\n",
    "#     fig = mlab.figure(size = (1024,768),\n",
    "#                 bgcolor = (1,1,1), fgcolor = (0.5, 0.5, 0.5))\n",
    "#     #mlab.contour3d(density, contours= [0.001, 0.05, 0.2, 0.5], opacity = 0.2, colormap = \"jet\")\n",
    "#     mlab.contour3d(density, contours= 50, opacity = 0.2, colormap = \"hot\")\n",
    "#     #mlab.axes(extent = [25, 175, 25, 175, 15, 175], y_axis_visibility = False)\n",
    "#     mlab.orientation_axes()\n",
    "#     colorbar = mlab.colorbar(orientation = 'vertical', label_fmt = '%.1f')\n",
    "#     colorbar.scalar_bar_representation.position = [0.8, 0.2]\n",
    "#     colorbar.scalar_bar_representation.position2 = [0.05, 0.6]\n",
    "# #     mlab.points3d([101, 101, 101], intPoints[:,0] + 1, 200 - intPoints[:,1], colormap = 'hot', \n",
    "# #                         scale_mode='none', scale_factor=2, opacity = 1)\n",
    "\n",
    "#     mlab.savefig(str(ctr + 41).zfill(3) + '.png', size = (1024, 1024))\n",
    "#     print ctr"
   ]
  },
  {
   "cell_type": "code",
   "execution_count": null,
   "metadata": {
    "collapsed": false,
    "scrolled": true
   },
   "outputs": [],
   "source": [
    "# make contour plot\n",
    "mlab.close(all = True)\n",
    "fig = mlab.figure(size = (1024,768),\n",
    "            bgcolor = (1,1,1), fgcolor = (0.5, 0.5, 0.5))\n",
    "aa = mlab.contour_surf(density[100, :,:], contours = [0.009,0.02, 0.05, 0.11, 0.4], colormap = 'hot')\n",
    "colorbar = mlab.colorbar(orientation = 'vertical', label_fmt = '%.1f')\n",
    "\n",
    "# add reference points to show where flower would be positioned\n",
    "mlab.points3d( 100 - intPoints[:,0], 99 - intPoints[:,1] + 1, [0, 0, 0], colormap = 'hot', \n",
    "                    scale_mode='none', scale_factor=2, opacity = 1)"
   ]
  },
  {
   "cell_type": "code",
   "execution_count": null,
   "metadata": {
    "collapsed": true
   },
   "outputs": [],
   "source": [
    "# mlab.savefig('contourMap' + '.png', size = (1440, 1024))"
   ]
  },
  {
   "cell_type": "code",
   "execution_count": null,
   "metadata": {
    "collapsed": false
   },
   "outputs": [],
   "source": [
    "# show installed packages and versions\n",
    "!pip freeze "
   ]
  },
  {
   "cell_type": "code",
   "execution_count": null,
   "metadata": {
    "collapsed": false
   },
   "outputs": [],
   "source": [
    "# print system info\n",
    "import IPython\n",
    "print IPython.sys_info()"
   ]
  },
  {
   "cell_type": "code",
   "execution_count": null,
   "metadata": {
    "collapsed": true
   },
   "outputs": [],
   "source": []
  }
 ],
 "metadata": {
  "anaconda-cloud": {},
  "kernelspec": {
   "display_name": "Python [conda env:vis_env]",
   "language": "python",
   "name": "conda-env-vis_env-py"
  },
  "language_info": {
   "codemirror_mode": {
    "name": "ipython",
    "version": 2
   },
   "file_extension": ".py",
   "mimetype": "text/x-python",
   "name": "python",
   "nbconvert_exporter": "python",
   "pygments_lexer": "ipython2",
   "version": "2.7.12"
  }
 },
 "nbformat": 4,
 "nbformat_minor": 1
}
